{
 "cells": [
  {
   "cell_type": "markdown",
   "metadata": {},
   "source": [
    "Here I try the code"
   ]
  },
  {
   "cell_type": "code",
   "execution_count": 117,
   "metadata": {},
   "outputs": [],
   "source": [
    "import scrapy\r\n",
    "import requests\r\n",
    "from bs4 import BeautifulSoup\r\n",
    "from scrapy import Selector\r\n",
    "from scrapy.crawler import CrawlerProcess"
   ]
  },
  {
   "cell_type": "code",
   "execution_count": null,
   "metadata": {},
   "outputs": [],
   "source": [
    "ico = [\"27201121\",\"27201121\"]\r\n",
    "start_urls = f\"https://or.justice.cz/ias/ui/rejstrik-$firma?ico={ico}&jenPlatne=PLATNE&polozek=1&typHledani=STARTS_WITH\"\r\n",
    "\r\n",
    "html = requests.get(url).content\r\n",
    "\r\n",
    "html"
   ]
  },
  {
   "cell_type": "code",
   "execution_count": 63,
   "metadata": {},
   "outputs": [
    {
     "name": "stdout",
     "output_type": "stream",
     "text": [
      "[]\n"
     ]
    }
   ],
   "source": [
    "def get_html(ico):\r\n",
    "    url = f\"https://or.justice.cz/ias/ui/rejstrik-$firma?ico={ico}&jenPlatne=PLATNE&polozek=1&typHledani=STARTS_WITH\"\r\n",
    "    html = requests.get(url).content\r\n",
    "    sel = Selector(text=html)\r\n",
    "    vypis = sel.xpath('./a/@href')\r\n",
    "\r\n",
    "    print(vypis)\r\n",
    "\r\n",
    "get_html(27201121)\r\n",
    "\r\n",
    "\r\n"
   ]
  },
  {
   "cell_type": "code",
   "execution_count": null,
   "metadata": {},
   "outputs": [],
   "source": [
    "ico = \"27082440\"\r\n",
    "url = f\"https://or.justice.cz/ias/ui/rejstrik-$firma?ico={ico}&jenPlatne=PLATNE&polozek=1&typHledani=STARTS_WITH\"\r\n",
    "url2 = \"https://or.justice.cz/ias/ui/rejstrik-firma.vysledky?subjektId=701502&typ=PLATNY\"\r\n",
    "html = requests.get(url2).content\r\n",
    "soup = BeautifulSoup(html, 'lxml')\r\n",
    "\r\n",
    "match = soup.find(text=\"Obchodní firma: \").findNext('span')\r\n",
    "match2 = match.findNext('span')\r\n",
    "\r\n",
    "\r\n",
    "match3 = soup.find(text=\"Identifikační číslo: \").findNext('span').text\r\n",
    "\r\n",
    "match4 = soup.findAll(class_=\"nounderline\")\r\n",
    "match4[5].findNext('span')\r\n",
    "print(match4)\r\n",
    "\r\n"
   ]
  },
  {
   "cell_type": "code",
   "execution_count": null,
   "metadata": {},
   "outputs": [],
   "source": [
    "filter_list=[]\r\n",
    "\r\n",
    "for article in soup.findAll(class_=\"nounderline\"):\r\n",
    "    article_text = article.text\r\n",
    "    if not article_text:\r\n",
    "        pass\r\n",
    "    else: \r\n",
    "        filter_list.append(article)\r\n",
    "\r\n",
    "filter_list\r\n"
   ]
  },
  {
   "cell_type": "code",
   "execution_count": 241,
   "metadata": {},
   "outputs": [
    {
     "data": {
      "text/plain": "'27082440'"
     },
     "execution_count": 241,
     "metadata": {},
     "output_type": "execute_result"
    }
   ],
   "source": [
    "filter_list[3].findNext('span').text"
   ]
  },
  {
   "cell_type": "code",
   "execution_count": null,
   "metadata": {},
   "outputs": [],
   "source": [
    "ico = \"27201121\"\r\n",
    "url = f\"https://or.justice.cz/ias/ui/rejstrik-$firma?ico={ico}&jenPlatne=PLATNE&polozek=1&typHledani=STARTS_WITH\"\r\n",
    "   \r\n",
    "html = requests.get(url).content\r\n",
    "sel = Selector(text=html)\r\n",
    "vypis = sel.xpath(\"//li/a[contains(text(),'Výpis platných')]/@href\").extract()\r\n",
    "\r\n",
    "print(vypis)\r\n"
   ]
  }
 ],
 "metadata": {
  "kernelspec": {
   "display_name": "Python 3.9.1 64-bit",
   "name": "python391jvsc74a57bd0ef3b7270d7f1affd2a393a9c4d04c9df9f7d453de97dd548c3d70953d082d5ca"
  },
  "language_info": {
   "codemirror_mode": {
    "name": "ipython",
    "version": 3
   },
   "file_extension": ".py",
   "mimetype": "text/x-python",
   "name": "python",
   "nbconvert_exporter": "python",
   "pygments_lexer": "ipython3",
   "version": "3.9.1"
  },
  "orig_nbformat": 2
 },
 "nbformat": 4,
 "nbformat_minor": 2
}