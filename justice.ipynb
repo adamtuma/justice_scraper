{
 "cells": [
  {
   "cell_type": "markdown",
   "metadata": {},
   "source": [
    "Here I try the code"
   ]
  },
  {
   "cell_type": "code",
   "execution_count": 57,
   "metadata": {},
   "outputs": [],
   "source": [
    "import scrapy\r\n",
    "import requests\r\n",
    "import pandas as pd\r\n",
    "from bs4 import BeautifulSoup\r\n",
    "from scrapy import Selector\r\n",
    "from scrapy.crawler import CrawlerProcess"
   ]
  },
  {
   "cell_type": "code",
   "execution_count": null,
   "metadata": {},
   "outputs": [],
   "source": [
    "ico = [\"27201121\",\"27201121\"]\r\n",
    "start_urls = f\"https://or.justice.cz/ias/ui/rejstrik-$firma?ico={ico}&jenPlatne=PLATNE&polozek=1&typHledani=STARTS_WITH\"\r\n",
    "\r\n",
    "html = requests.get(url).content\r\n",
    "\r\n",
    "html"
   ]
  },
  {
   "cell_type": "code",
   "execution_count": 82,
   "metadata": {},
   "outputs": [],
   "source": [
    "#get_url(27082440)\r\n",
    "icos = [\"27201121\",\"27082440\"]\r\n",
    "\r\n",
    "def get_url(ico):\r\n",
    "    url_0 = f\"https://or.justice.cz/ias/ui/rejstrik-$firma?ico={ico}&jenPlatne=PLATNE&polozek=1&typHledani=STARTS_WITH\"\r\n",
    "    html_subjektID = requests.get(url_0).content\r\n",
    "    sel_id = Selector(text=html_subjektID)\r\n",
    "    vypis = sel_id.xpath(\"//li/a[contains(text(),'Výpis platných')]/@href\").extract()\r\n",
    "    subjektID = vypis[0].split('subjektId=')[1].split('&')[0]\r\n",
    "    url = f'https://or.justice.cz/ias/ui/rejstrik-firma.vysledky?subjektId={subjektID}&typ=PLATNY'\r\n",
    "    return url\r\n",
    "\r\n",
    "urls = []\r\n",
    "\r\n",
    "def get_urls(icos):\r\n",
    "    for i in icos:\r\n",
    "        urls.append(get_url(i))\r\n",
    "\r\n",
    "def get_soup(ico):\r\n",
    "    url = get_url(ico)\r\n",
    "    html = requests.get(url).content\r\n",
    "    soup = BeautifulSoup(html, 'lxml')\r\n",
    "    return soup\r\n",
    "\r\n",
    "\r\n"
   ]
  },
  {
   "cell_type": "code",
   "execution_count": null,
   "metadata": {},
   "outputs": [],
   "source": [
    "ico = \"27082440\"\r\n",
    "url = f\"https://or.justice.cz/ias/ui/rejstrik-$firma?ico={ico}&jenPlatne=PLATNE&polozek=1&typHledani=STARTS_WITH\"\r\n",
    "url2 = \"https://or.justice.cz/ias/ui/rejstrik-firma.vysledky?subjektId=701502&typ=PLATNY\"\r\n",
    "html = requests.get(url2).content\r\n",
    "soup = BeautifulSoup(html, 'lxml')\r\n",
    "\r\n",
    "match = soup.find(text=\"Obchodní firma: \").findNext('span')\r\n",
    "match2 = match.findNext('span')\r\n",
    "\r\n",
    "\r\n",
    "match3 = soup.find(text=\"Identifikační číslo: \").findNext('span').text\r\n",
    "\r\n",
    "match4 = soup.findAll(class_=\"nounderline\")\r\n",
    "match4[5].findNext('span')\r\n",
    "print(soup.prettify())\r\n",
    "\r\n"
   ]
  },
  {
   "cell_type": "markdown",
   "metadata": {},
   "source": [
    "getting the main data points in nice format"
   ]
  },
  {
   "cell_type": "code",
   "execution_count": 91,
   "metadata": {},
   "outputs": [
    {
     "data": {
      "text/html": "<div>\n<style scoped>\n    .dataframe tbody tr th:only-of-type {\n        vertical-align: middle;\n    }\n\n    .dataframe tbody tr th {\n        vertical-align: top;\n    }\n\n    .dataframe thead th {\n        text-align: right;\n    }\n</style>\n<table border=\"1\" class=\"dataframe\">\n  <thead>\n    <tr style=\"text-align: right;\">\n      <th></th>\n      <th>Obchodní firma</th>\n      <th>Datum vzniku</th>\n      <th>Spisová značka</th>\n      <th>Sídlo</th>\n      <th>Právní forma</th>\n    </tr>\n  </thead>\n  <tbody>\n    <tr>\n      <th>27201121</th>\n      <td>APELEN Consulting, spol. s r.o.</td>\n      <td>5. ledna 2005</td>\n      <td>C 104017 vedená u Městského soudu v Praze</td>\n      <td>Nad Okrouhlíkem 2372/14, Libeň, 182 00  Praha 8</td>\n      <td>Společnost s ručením omezeným</td>\n    </tr>\n    <tr>\n      <th>27082440</th>\n      <td>Alza.cz a.s.</td>\n      <td>26. srpna 2003</td>\n      <td>B 8573 vedená u Městského soudu v Praze</td>\n      <td>Jankovcova 1522/53, Holešovice, 170 00  Praha 7</td>\n      <td>Akciová společnost</td>\n    </tr>\n  </tbody>\n</table>\n</div>",
      "text/plain": "                           Obchodní firma    Datum vzniku  \\\n27201121  APELEN Consulting, spol. s r.o.   5. ledna 2005   \n27082440                     Alza.cz a.s.  26. srpna 2003   \n\n                                     Spisová značka  \\\n27201121  C 104017 vedená u Městského soudu v Praze   \n27082440    B 8573 vedená u Městského soudu v Praze   \n\n                                                    Sídlo  \\\n27201121  Nad Okrouhlíkem 2372/14, Libeň, 182 00  Praha 8   \n27082440  Jankovcova 1522/53, Holešovice, 170 00  Praha 7   \n\n                           Právní forma  \n27201121  Společnost s ručením omezeným  \n27082440             Akciová společnost  "
     },
     "execution_count": 91,
     "metadata": {},
     "output_type": "execute_result"
    }
   ],
   "source": [
    "def getBasicInfo(icos):\r\n",
    "    df = pd.DataFrame(index=icos, columns = ['Obchodní firma', 'Datum vzniku', 'Spisová značka', 'Sídlo', 'Právní forma'])\r\n",
    "    for ico in icos:\r\n",
    "        soup = get_soup(ico)\r\n",
    "\r\n",
    "        date = soup.find(text=\"Datum vzniku a zápisu:\").findNext('div').findNext('div').text\r\n",
    "        df.loc[ico,'Datum vzniku'] = date\r\n",
    "\r\n",
    "        spis = soup.find(text=\"Spisová značka: \").findNext('span').text\r\n",
    "        df.loc[ico,'Spisová značka'] = spis\r\n",
    "\r\n",
    "        obch_firma = soup.find(text=\"Obchodní firma: \").findNext('span').text\r\n",
    "        df.loc[ico,'Obchodní firma'] = obch_firma\r\n",
    "\r\n",
    "        sidlo = soup.find(text=\"Sídlo: \").findNext('span').findNext('span').text\r\n",
    "        df.loc[ico,'Sídlo'] = sidlo\r\n",
    "\r\n",
    "        pravni_forma = soup.find(text=\"Právní forma: \").findNext('span').text\r\n",
    "        df.loc[ico,'Právní forma'] = pravni_forma\r\n",
    "    return df\r\n",
    "\r\n",
    "getBasicInfo(icos)\r\n"
   ]
  },
  {
   "cell_type": "markdown",
   "metadata": {},
   "source": [
    "filtering the objects so they only include non-empty strings"
   ]
  },
  {
   "cell_type": "code",
   "execution_count": 44,
   "metadata": {},
   "outputs": [
    {
     "data": {
      "text/plain": "[<span class=\"nounderline\">Spisová značka: </span>,\n <span class=\"nounderline\">Obchodní firma: </span>,\n <span class=\"nounderline\">Sídlo: </span>,\n <span class=\"nounderline\">Identifikační číslo: </span>,\n <span class=\"nounderline\">Právní forma: </span>,\n <span class=\"nounderline\">Předmět podnikání: </span>,\n <span class=\"nounderline\">Statutární orgán - představenstvo: </span>,\n <span class=\"nounderline\">Předseda představenstva: </span>,\n <span class=\"nounderline\">Místopředseda představenstva: </span>,\n <span class=\"nounderline\">Místopředseda představenstva: </span>,\n <span class=\"nounderline\">Počet členů: </span>,\n <span class=\"nounderline\">Způsob jednání: </span>,\n <span class=\"nounderline\">Dozorčí rada: </span>,\n <span class=\"nounderline\">člen dozorčí rady: </span>,\n <span class=\"nounderline\">člen dozorčí rady: </span>,\n <span class=\"nounderline\">člen dozorčí rady: </span>,\n <span class=\"nounderline\">Jediný akcionář: </span>,\n <span class=\"nounderline\">Akcie: </span>,\n <span class=\"nounderline\">Základní kapitál: </span>,\n <span class=\"nounderline\">Ostatní skutečnosti: </span>]"
     },
     "execution_count": 44,
     "metadata": {},
     "output_type": "execute_result"
    }
   ],
   "source": [
    "filter_list=[]\r\n",
    "\r\n",
    "for article in soup.findAll(class_=\"nounderline\"):\r\n",
    "    article_text = article.text\r\n",
    "    if not article_text:\r\n",
    "        pass\r\n",
    "    else: \r\n",
    "        filter_list.append(article)\r\n",
    "\r\n",
    "filter_list\r\n"
   ]
  },
  {
   "cell_type": "code",
   "execution_count": 43,
   "metadata": {},
   "outputs": [
    {
     "data": {
      "text/plain": "''"
     },
     "execution_count": 43,
     "metadata": {},
     "output_type": "execute_result"
    }
   ],
   "source": [
    "prvni = filter_list[16].findNext('span')\r\n",
    "prvni_text = prvni.text\r\n",
    "druhy = prvni.findNext('span')\r\n",
    "druhy_text = druhy.text\r\n",
    "treti = druhy.findNext('span')\r\n",
    "treti_text = treti.text\r\n",
    "prvni_text"
   ]
  },
  {
   "cell_type": "code",
   "execution_count": null,
   "metadata": {},
   "outputs": [],
   "source": [
    "info = []\r\n",
    "\r\n",
    "def info_attacher(list):\r\n",
    "    for object in list:\r\n",
    "        while True:\r\n",
    "            if object.text == (object+1).text:\r\n",
    "                pass\r\n",
    "            elif not i.text:\r\n",
    "                pass\r\n",
    "            else:\r\n",
    "                info.append(i.text)\r\n",
    "\r\n",
    "info_attacher(filter_list)\r\n",
    "            "
   ]
  },
  {
   "cell_type": "code",
   "execution_count": null,
   "metadata": {},
   "outputs": [],
   "source": [
    "ico = \"27201121\"\r\n",
    "url = f\"https://or.justice.cz/ias/ui/rejstrik-$firma?ico={ico}&jenPlatne=PLATNE&polozek=1&typHledani=STARTS_WITH\"\r\n",
    "   \r\n",
    "html = requests.get(url).content\r\n",
    "sel = Selector(text=html)\r\n",
    "vypis = sel.xpath(\"//li/a[contains(text(),'Výpis platných')]/@href\").extract()\r\n",
    "\r\n",
    "print(vypis)\r\n"
   ]
  }
 ],
 "metadata": {
  "kernelspec": {
   "display_name": "Python 3.9.1 64-bit",
   "name": "python391jvsc74a57bd0ef3b7270d7f1affd2a393a9c4d04c9df9f7d453de97dd548c3d70953d082d5ca"
  },
  "language_info": {
   "codemirror_mode": {
    "name": "ipython",
    "version": 3
   },
   "file_extension": ".py",
   "mimetype": "text/x-python",
   "name": "python",
   "nbconvert_exporter": "python",
   "pygments_lexer": "ipython3",
   "version": "3.9.1"
  },
  "orig_nbformat": 2
 },
 "nbformat": 4,
 "nbformat_minor": 2
}