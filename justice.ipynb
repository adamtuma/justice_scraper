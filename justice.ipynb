{
 "cells": [
  {
   "cell_type": "markdown",
   "metadata": {},
   "source": [
    "Import needed packages"
   ]
  },
  {
   "cell_type": "code",
   "execution_count": 1,
   "metadata": {},
   "outputs": [],
   "source": [
    "import requests\r\n",
    "import pandas as pd\r\n",
    "import geopy\r\n",
    "import time\r\n",
    "import folium\r\n",
    "import docx\r\n",
    "import unicodedata\r\n",
    "from bs4 import BeautifulSoup\r\n",
    "from geopy.geocoders import Nominatim\r\n",
    "from docx import Document\r\n",
    "from docx.shared import Inches\r\n",
    "from docx.shared import Pt\r\n",
    "from docx.enum.style import WD_STYLE_TYPE"
   ]
  },
  {
   "cell_type": "markdown",
   "metadata": {},
   "source": [
    "Import some data for testing"
   ]
  },
  {
   "cell_type": "code",
   "execution_count": 2,
   "metadata": {},
   "outputs": [
    {
     "name": "stdout",
     "output_type": "stream",
     "text": [
      "['00177041', '28356250', '45274649', '26185610', '25938002', '61672190', '27773035', '28477090', '63474808', '45788235', '60193531', '43872247', '49450301', '00014915', '70994226', '63080737', '26513528', '18050646', '64945880', '26463318', '49903209', '60193336', '27082440', '26450691', '49241214', '64949681', '29259428', '00268577', '45359326', '25654012', '25702556', '61672599', '48171131', '63473291', '00000931', '46995129', '26919389', '27386732', '27636801', '46678735', '15890554', '60193913', '27214265', '02176475', '00005886', '04084063', '14707420', '03592880', '01759299', '25663135', '48365289', '46711953', '05735025', '45357366', '25029673', '14803534', '47114983', '48038687', '29060770', '14706725', '14803534', '25077830', '49240030', '60193492', '27295567', '28987322', '60838744', '00534111', '26271303', '41189671', '14888742', '26128209', '26455137', '25133152', '28196678', '45193410', '28234642', '45274924', '26440181', '64833054', '28244532', '43005012', '26161516', '45799504', '46709410', '28399757', '26905850', '47124652', '27081052', '47974516', '26726548', '19010290', '63485826', '27129136', '62623753', '63145936', '49284975', '02397811', '26307391', '47239581']\n"
     ]
    }
   ],
   "source": [
    "text_icos = open('examples/top100_icos.txt', 'r')\r\n",
    "icos = [line.strip() for line in text_icos]\r\n",
    "text_icos.close()\r\n",
    "\r\n",
    "print(icos)"
   ]
  },
  {
   "cell_type": "markdown",
   "metadata": {},
   "source": [
    "## Functions to obtain the HTML"
   ]
  },
  {
   "cell_type": "code",
   "execution_count": 2,
   "metadata": {},
   "outputs": [],
   "source": [
    "def get_url(ico):\r\n",
    "    url_0 = f\"https://or.justice.cz/ias/ui/rejstrik-$firma?ico={ico}&jenPlatne=PLATNE&polozek=1&typHledani=STARTS_WITH\"\r\n",
    "    html_subjektID = requests.get(url_0).content\r\n",
    "    soupID = BeautifulSoup(html_subjektID, 'lxml', from_encoding=\"utf-8\")\r\n",
    "    vypis = str(soupID.find(href=True, text='Výpis platných'))\r\n",
    "    subjektID = vypis.split('subjektId=')[1].split('&')[0]\r\n",
    "    url = f'https://or.justice.cz/ias/ui/rejstrik-firma.vysledky?subjektId={subjektID}&typ=PLATNY'\r\n",
    "    return url\r\n",
    "\r\n",
    "def get_soup(ico):\r\n",
    "    url = get_url(ico)\r\n",
    "    html = requests.get(url).content\r\n",
    "    soup = BeautifulSoup(html, 'lxml', from_encoding=\"utf-8\")\r\n",
    "    return soup"
   ]
  },
  {
   "cell_type": "markdown",
   "metadata": {},
   "source": [
    "## The function getBasicInfo obtains basic 5 datapoints that are the same across all companies on justice.cz"
   ]
  },
  {
   "cell_type": "code",
   "execution_count": 28,
   "metadata": {},
   "outputs": [
    {
     "data": {
      "text/html": "<div>\n<style scoped>\n    .dataframe tbody tr th:only-of-type {\n        vertical-align: middle;\n    }\n\n    .dataframe tbody tr th {\n        vertical-align: top;\n    }\n\n    .dataframe thead th {\n        text-align: right;\n    }\n</style>\n<table border=\"1\" class=\"dataframe\">\n  <thead>\n    <tr style=\"text-align: right;\">\n      <th></th>\n      <th>Název společnosti</th>\n      <th>Datum vzniku</th>\n      <th>Spisová značka</th>\n      <th>Sídlo</th>\n      <th>Právní forma</th>\n    </tr>\n  </thead>\n  <tbody>\n    <tr>\n      <th>00177041</th>\n      <td>ŠKODA AUTO a.s.</td>\n      <td>20. listopadu 1990</td>\n      <td>B 332 vedená u Městského soudu v Praze</td>\n      <td>tř. Václava Klementa 869, Mladá Boleslav II, 2...</td>\n      <td>Akciová společnost</td>\n    </tr>\n    <tr>\n      <th>28356250</th>\n      <td>Energetický a průmyslový holding, a.s.</td>\n      <td>10. srpna 2009</td>\n      <td>B 21747 vedená u Městského soudu v Praze</td>\n      <td>Pařížská 130/26, Josefov, 110 00  Praha 1</td>\n      <td>Akciová společnost</td>\n    </tr>\n    <tr>\n      <th>45274649</th>\n      <td>ČEZ, a. s.</td>\n      <td>6. května 1992</td>\n      <td>B 1581 vedená u Městského soudu v Praze</td>\n      <td>Praha 4, Duhová 2/1444, PSČ 14053</td>\n      <td>Akciová společnost</td>\n    </tr>\n    <tr>\n      <th>26185610</th>\n      <td>AGROFERT, a.s.</td>\n      <td>1. července 2000</td>\n      <td>B 6626 vedená u Městského soudu v Praze</td>\n      <td>Pyšelská 2327/2, Chodov, 149 00  Praha 4</td>\n      <td>Akciová společnost</td>\n    </tr>\n    <tr>\n      <th>25938002</th>\n      <td>FOXCONN CZ s.r.o.</td>\n      <td>18. května 2000</td>\n      <td>C 16095 vedená u Krajského soudu v Hradci Králové</td>\n      <td>U Zámečku 27, Pardubičky, 530 03  Pardubice</td>\n      <td>Společnost s ručením omezeným</td>\n    </tr>\n    <tr>\n      <th>...</th>\n      <td>...</td>\n      <td>...</td>\n      <td>...</td>\n      <td>...</td>\n      <td>...</td>\n    </tr>\n    <tr>\n      <th>63145936</th>\n      <td>Benteler ČR s.r.o.</td>\n      <td>12. července 1995</td>\n      <td>C 22895 vedená u Krajského soudu v Ústí nad Labem</td>\n      <td>Školní 713, 463 31  Chrastava</td>\n      <td>Společnost s ručením omezeným</td>\n    </tr>\n    <tr>\n      <th>49284975</th>\n      <td>KIEKERT-CS, s.r.o.</td>\n      <td>1. června 1993</td>\n      <td>C 4473 vedená u Krajského soudu v Hradci Králové</td>\n      <td>Jaselská 593, 535 01  Přelouč</td>\n      <td>Společnost s ručením omezeným</td>\n    </tr>\n    <tr>\n      <th>02397811</th>\n      <td>Adient Bor s.r.o.</td>\n      <td>3. prosince 2013</td>\n      <td>C 36301 vedená u Krajského soudu v Plzni</td>\n      <td>Nová Hospoda 29, 348 02  Bor</td>\n      <td>Společnost s ručením omezeným</td>\n    </tr>\n    <tr>\n      <th>26307391</th>\n      <td>Miele technika s.r.o.</td>\n      <td>13. prosince 2002</td>\n      <td>C 28029 vedená u Krajského soudu v Ostravě</td>\n      <td>Uničov, Šumperská 1348, PSČ 78391</td>\n      <td>Společnost s ručením omezeným</td>\n    </tr>\n    <tr>\n      <th>47239581</th>\n      <td>dm drogerie markt s.r.o.</td>\n      <td>9. září 1992</td>\n      <td>C 1935 vedená u Krajského soudu v Českých Budě...</td>\n      <td>Jeronýmova 1485/19, České Budějovice 6, 370 01...</td>\n      <td>Společnost s ručením omezeným</td>\n    </tr>\n  </tbody>\n</table>\n<p>100 rows × 5 columns</p>\n</div>",
      "text/plain": "                               Název společnosti        Datum vzniku  \\\n00177041                         ŠKODA AUTO a.s.  20. listopadu 1990   \n28356250  Energetický a průmyslový holding, a.s.      10. srpna 2009   \n45274649                              ČEZ, a. s.      6. května 1992   \n26185610                          AGROFERT, a.s.    1. července 2000   \n25938002                       FOXCONN CZ s.r.o.     18. května 2000   \n...                                          ...                 ...   \n63145936                      Benteler ČR s.r.o.   12. července 1995   \n49284975                      KIEKERT-CS, s.r.o.      1. června 1993   \n02397811                       Adient Bor s.r.o.    3. prosince 2013   \n26307391                   Miele technika s.r.o.   13. prosince 2002   \n47239581                dm drogerie markt s.r.o.        9. září 1992   \n\n                                             Spisová značka  \\\n00177041             B 332 vedená u Městského soudu v Praze   \n28356250           B 21747 vedená u Městského soudu v Praze   \n45274649            B 1581 vedená u Městského soudu v Praze   \n26185610            B 6626 vedená u Městského soudu v Praze   \n25938002  C 16095 vedená u Krajského soudu v Hradci Králové   \n...                                                     ...   \n63145936  C 22895 vedená u Krajského soudu v Ústí nad Labem   \n49284975   C 4473 vedená u Krajského soudu v Hradci Králové   \n02397811           C 36301 vedená u Krajského soudu v Plzni   \n26307391         C 28029 vedená u Krajského soudu v Ostravě   \n47239581  C 1935 vedená u Krajského soudu v Českých Budě...   \n\n                                                      Sídlo  \\\n00177041  tř. Václava Klementa 869, Mladá Boleslav II, 2...   \n28356250          Pařížská 130/26, Josefov, 110 00  Praha 1   \n45274649                  Praha 4, Duhová 2/1444, PSČ 14053   \n26185610           Pyšelská 2327/2, Chodov, 149 00  Praha 4   \n25938002        U Zámečku 27, Pardubičky, 530 03  Pardubice   \n...                                                     ...   \n63145936                      Školní 713, 463 31  Chrastava   \n49284975                      Jaselská 593, 535 01  Přelouč   \n02397811                       Nová Hospoda 29, 348 02  Bor   \n26307391                  Uničov, Šumperská 1348, PSČ 78391   \n47239581  Jeronýmova 1485/19, České Budějovice 6, 370 01...   \n\n                           Právní forma  \n00177041             Akciová společnost  \n28356250             Akciová společnost  \n45274649             Akciová společnost  \n26185610             Akciová společnost  \n25938002  Společnost s ručením omezeným  \n...                                 ...  \n63145936  Společnost s ručením omezeným  \n49284975  Společnost s ručením omezeným  \n02397811  Společnost s ručením omezeným  \n26307391  Společnost s ručením omezeným  \n47239581  Společnost s ručením omezeným  \n\n[100 rows x 5 columns]"
     },
     "execution_count": 28,
     "metadata": {},
     "output_type": "execute_result"
    }
   ],
   "source": [
    "def getBasicInfo(icos):\r\n",
    "    df = pd.DataFrame(index=icos, columns = ['Název společnosti', 'Datum vzniku', 'Spisová značka', 'Sídlo', 'Právní forma'])\r\n",
    "    for ico in icos:\r\n",
    "        soup = get_soup(ico)\r\n",
    "\r\n",
    "        date = soup.find(text=\"Datum vzniku a zápisu:\").findNext('div').findNext('div').text\r\n",
    "        df.loc[ico,'Datum vzniku'] = date\r\n",
    "\r\n",
    "        spis = soup.find(text=\"Spisová značka: \").findNext('span').text\r\n",
    "        df.loc[ico,'Spisová značka'] = spis\r\n",
    "\r\n",
    "        nazev = soup.find(class_=\"nounderline\").findNext(class_=\"nounderline\").findNext('span').text    # here we take different approach as the object is sometimes Obchodní firma and sometimes different\r\n",
    "        df.loc[ico,'Název společnosti'] = nazev\r\n",
    "\r\n",
    "        sidlo = soup.find(text=\"Sídlo: \").findNext('span').findNext('span').text                        # address is in double span\r\n",
    "        df.loc[ico,'Sídlo'] = sidlo\r\n",
    "\r\n",
    "        pravni_forma = soup.find(text=\"Právní forma: \").findNext('span').text\r\n",
    "        df.loc[ico,'Právní forma'] = pravni_forma\r\n",
    "        time.sleep(1)   # added 1 second sleep as justice temporarily banned access for my IP, maybe this will help\r\n",
    "    return df\r\n",
    "\r\n",
    "df = getBasicInfo(icos)\r\n",
    "df"
   ]
  },
  {
   "cell_type": "code",
   "execution_count": 29,
   "metadata": {},
   "outputs": [
    {
     "data": {
      "text/html": "<div>\n<style scoped>\n    .dataframe tbody tr th:only-of-type {\n        vertical-align: middle;\n    }\n\n    .dataframe tbody tr th {\n        vertical-align: top;\n    }\n\n    .dataframe thead th {\n        text-align: right;\n    }\n</style>\n<table border=\"1\" class=\"dataframe\">\n  <thead>\n    <tr style=\"text-align: right;\">\n      <th></th>\n      <th>Název společnosti</th>\n      <th>Datum vzniku</th>\n      <th>Spisová značka</th>\n      <th>Sídlo</th>\n      <th>Právní forma</th>\n      <th>latitude</th>\n      <th>longitude</th>\n    </tr>\n  </thead>\n  <tbody>\n    <tr>\n      <th>00177041</th>\n      <td>ŠKODA AUTO a.s.</td>\n      <td>20. listopadu 1990</td>\n      <td>B 332 vedená u Městského soudu v Praze</td>\n      <td>tř. Václava Klementa 869, Mladá Boleslav II, 2...</td>\n      <td>Akciová společnost</td>\n      <td>50.426931</td>\n      <td>14.918648</td>\n    </tr>\n    <tr>\n      <th>28356250</th>\n      <td>Energetický a průmyslový holding, a.s.</td>\n      <td>10. srpna 2009</td>\n      <td>B 21747 vedená u Městského soudu v Praze</td>\n      <td>Pařížská 130/26, Josefov, 110 00  Praha 1</td>\n      <td>Akciová společnost</td>\n      <td>50.090427</td>\n      <td>14.418938</td>\n    </tr>\n    <tr>\n      <th>45274649</th>\n      <td>ČEZ, a. s.</td>\n      <td>6. května 1992</td>\n      <td>B 1581 vedená u Městského soudu v Praze</td>\n      <td>Praha 4, Duhová 2/1444, PSČ 14053</td>\n      <td>Akciová společnost</td>\n      <td>49.940474</td>\n      <td>14.423769</td>\n    </tr>\n    <tr>\n      <th>26185610</th>\n      <td>AGROFERT, a.s.</td>\n      <td>1. července 2000</td>\n      <td>B 6626 vedená u Městského soudu v Praze</td>\n      <td>Pyšelská 2327/2, Chodov, 149 00  Praha 4</td>\n      <td>Akciová společnost</td>\n      <td>50.038638</td>\n      <td>14.497542</td>\n    </tr>\n    <tr>\n      <th>25938002</th>\n      <td>FOXCONN CZ s.r.o.</td>\n      <td>18. května 2000</td>\n      <td>C 16095 vedená u Krajského soudu v Hradci Králové</td>\n      <td>U Zámečku 27, Pardubičky, 530 03  Pardubice</td>\n      <td>Společnost s ručením omezeným</td>\n      <td>50.029444</td>\n      <td>15.803469</td>\n    </tr>\n    <tr>\n      <th>...</th>\n      <td>...</td>\n      <td>...</td>\n      <td>...</td>\n      <td>...</td>\n      <td>...</td>\n      <td>...</td>\n      <td>...</td>\n    </tr>\n    <tr>\n      <th>63145936</th>\n      <td>Benteler ČR s.r.o.</td>\n      <td>12. července 1995</td>\n      <td>C 22895 vedená u Krajského soudu v Ústí nad Labem</td>\n      <td>Školní 713, 463 31  Chrastava</td>\n      <td>Společnost s ručením omezeným</td>\n      <td>50.821435</td>\n      <td>14.970132</td>\n    </tr>\n    <tr>\n      <th>49284975</th>\n      <td>KIEKERT-CS, s.r.o.</td>\n      <td>1. června 1993</td>\n      <td>C 4473 vedená u Krajského soudu v Hradci Králové</td>\n      <td>Jaselská 593, 535 01  Přelouč</td>\n      <td>Společnost s ručením omezeným</td>\n      <td>50.037363</td>\n      <td>15.580635</td>\n    </tr>\n    <tr>\n      <th>02397811</th>\n      <td>Adient Bor s.r.o.</td>\n      <td>3. prosince 2013</td>\n      <td>C 36301 vedená u Krajského soudu v Plzni</td>\n      <td>Nová Hospoda 29, 348 02  Bor</td>\n      <td>Společnost s ručením omezeným</td>\n      <td>49.746047</td>\n      <td>12.764198</td>\n    </tr>\n    <tr>\n      <th>26307391</th>\n      <td>Miele technika s.r.o.</td>\n      <td>13. prosince 2002</td>\n      <td>C 28029 vedená u Krajského soudu v Ostravě</td>\n      <td>Uničov, Šumperská 1348, PSČ 78391</td>\n      <td>Společnost s ručením omezeným</td>\n      <td>49.782249</td>\n      <td>17.120397</td>\n    </tr>\n    <tr>\n      <th>47239581</th>\n      <td>dm drogerie markt s.r.o.</td>\n      <td>9. září 1992</td>\n      <td>C 1935 vedená u Krajského soudu v Českých Budě...</td>\n      <td>Jeronýmova 1485/19, České Budějovice 6, 370 01...</td>\n      <td>Společnost s ručením omezeným</td>\n      <td>48.973639</td>\n      <td>14.481296</td>\n    </tr>\n  </tbody>\n</table>\n<p>100 rows × 7 columns</p>\n</div>",
      "text/plain": "                               Název společnosti        Datum vzniku  \\\n00177041                         ŠKODA AUTO a.s.  20. listopadu 1990   \n28356250  Energetický a průmyslový holding, a.s.      10. srpna 2009   \n45274649                              ČEZ, a. s.      6. května 1992   \n26185610                          AGROFERT, a.s.    1. července 2000   \n25938002                       FOXCONN CZ s.r.o.     18. května 2000   \n...                                          ...                 ...   \n63145936                      Benteler ČR s.r.o.   12. července 1995   \n49284975                      KIEKERT-CS, s.r.o.      1. června 1993   \n02397811                       Adient Bor s.r.o.    3. prosince 2013   \n26307391                   Miele technika s.r.o.   13. prosince 2002   \n47239581                dm drogerie markt s.r.o.        9. září 1992   \n\n                                             Spisová značka  \\\n00177041             B 332 vedená u Městského soudu v Praze   \n28356250           B 21747 vedená u Městského soudu v Praze   \n45274649            B 1581 vedená u Městského soudu v Praze   \n26185610            B 6626 vedená u Městského soudu v Praze   \n25938002  C 16095 vedená u Krajského soudu v Hradci Králové   \n...                                                     ...   \n63145936  C 22895 vedená u Krajského soudu v Ústí nad Labem   \n49284975   C 4473 vedená u Krajského soudu v Hradci Králové   \n02397811           C 36301 vedená u Krajského soudu v Plzni   \n26307391         C 28029 vedená u Krajského soudu v Ostravě   \n47239581  C 1935 vedená u Krajského soudu v Českých Budě...   \n\n                                                      Sídlo  \\\n00177041  tř. Václava Klementa 869, Mladá Boleslav II, 2...   \n28356250          Pařížská 130/26, Josefov, 110 00  Praha 1   \n45274649                  Praha 4, Duhová 2/1444, PSČ 14053   \n26185610           Pyšelská 2327/2, Chodov, 149 00  Praha 4   \n25938002        U Zámečku 27, Pardubičky, 530 03  Pardubice   \n...                                                     ...   \n63145936                      Školní 713, 463 31  Chrastava   \n49284975                      Jaselská 593, 535 01  Přelouč   \n02397811                       Nová Hospoda 29, 348 02  Bor   \n26307391                  Uničov, Šumperská 1348, PSČ 78391   \n47239581  Jeronýmova 1485/19, České Budějovice 6, 370 01...   \n\n                           Právní forma   latitude  longitude  \n00177041             Akciová společnost  50.426931  14.918648  \n28356250             Akciová společnost  50.090427  14.418938  \n45274649             Akciová společnost  49.940474  14.423769  \n26185610             Akciová společnost  50.038638  14.497542  \n25938002  Společnost s ručením omezeným  50.029444  15.803469  \n...                                 ...        ...        ...  \n63145936  Společnost s ručením omezeným  50.821435  14.970132  \n49284975  Společnost s ručením omezeným  50.037363  15.580635  \n02397811  Společnost s ručením omezeným  49.746047  12.764198  \n26307391  Společnost s ručením omezeným  49.782249  17.120397  \n47239581  Společnost s ručením omezeným  48.973639  14.481296  \n\n[100 rows x 7 columns]"
     },
     "execution_count": 29,
     "metadata": {},
     "output_type": "execute_result"
    }
   ],
   "source": [
    "def getCoordinates(df):\r\n",
    "    ### FUNCTION TO OBTAIN GPS COORDINATES FROM ADDRES ###\r\n",
    "    locator = Nominatim(user_agent='justice_scraper')\r\n",
    "    list_address = df.loc[:,'Sídlo'].tolist()\r\n",
    "    latitudes = []\r\n",
    "    longitudes = []\r\n",
    "    for i in list_address:\r\n",
    "        split = i.split(',')                        # first we try to obtain coordinates from the first 2 splits in the addres, usually the street name and number + city\r\n",
    "        address = split[0]+', '+split[1]\r\n",
    "        location = locator.geocode(address)\r\n",
    "        if not location:                            # sometimes the address is wierdly formatted and the second info is the postal code, which results in not finding any coordinates, we then try only from the first split\r\n",
    "            split1 = i.split(',')\r\n",
    "            address1 = split1[0]\r\n",
    "            lat1 = locator.geocode(address1).latitude\r\n",
    "            lon1 = locator.geocode(address1).longitude\r\n",
    "            latitudes.append(lat1)\r\n",
    "            longitudes.append(lon1)\r\n",
    "        else: \r\n",
    "            lat = locator.geocode(address).latitude\r\n",
    "            lon = locator.geocode(address).longitude\r\n",
    "            latitudes.append(lat)\r\n",
    "            longitudes.append(lon)\r\n",
    "    df['latitude'] = latitudes\r\n",
    "    df['longitude'] = longitudes\r\n",
    "    return df\r\n",
    "\r\n",
    "df = getCoordinates(df)\r\n",
    "df"
   ]
  },
  {
   "cell_type": "code",
   "execution_count": 30,
   "metadata": {},
   "outputs": [],
   "source": [
    "def getMap(df):\r\n",
    "    map1 = folium.Map(\r\n",
    "        location=[49.861464, 15.496766],\r\n",
    "        tiles='cartodbpositron',\r\n",
    "        zoom_start=8,\r\n",
    "    )\r\n",
    "    df.apply(lambda row:folium.Marker(location=[row[\"latitude\"], row[\"longitude\"]], popup=row['Název společnosti']).add_to(map1), axis=1)\r\n",
    "    map1.save(outfile= \"examples/map.html\")\r\n",
    "\r\n",
    "getMap(df)"
   ]
  },
  {
   "cell_type": "markdown",
   "metadata": {},
   "source": [
    "## Obtaining more complex info that differs across companies"
   ]
  },
  {
   "cell_type": "code",
   "execution_count": 3,
   "metadata": {},
   "outputs": [],
   "source": [
    "def get_info(ico):\r\n",
    "    soup = get_soup(ico)\r\n",
    "    data = {}\r\n",
    "    # first getting the basic information which will be formatted differently\r\n",
    "    nazev = soup.find(class_=\"nounderline\").findNext(class_=\"nounderline\").findNext('span').text    #here we take different approach as the object is sometimes Obchodní firma and sometimes different\r\n",
    "    data['Název společnosti:'] = nazev\r\n",
    "\r\n",
    "    date = soup.find(text=\"Datum vzniku a zápisu:\").findNext('div').findNext('div').text\r\n",
    "    data['Datum vzniku:'] = date\r\n",
    "\r\n",
    "    spis = soup.find(text=\"Spisová značka: \").findNext('span').text\r\n",
    "    data['Spisová značka:'] = spis\r\n",
    "\r\n",
    "    sidlo = soup.find(text=\"Sídlo: \").findNext('span').findNext('span').text                      #address is in double span\r\n",
    "    data['Sídlo:'] = sidlo\r\n",
    "\r\n",
    "    data['IČO:'] = str(ico)\r\n",
    "\r\n",
    "    pravni_forma = soup.find(text=\"Právní forma: \").findNext('span').text\r\n",
    "    data['Právní forma:'] = pravni_forma\r\n",
    "\r\n",
    "    vr_childs = soup.find(text=\"Právní forma: \").find_all_next(class_='vr-child')  #now the functions looks for all other types of information\r\n",
    "    while vr_childs[0].find(class_='nounderline').text == '':    #this part makes sure the code will not get stuck on some companies, which have additional info bellow právní forma, i.e. 45359326 \r\n",
    "        vr_childs = vr_childs[1:]\r\n",
    "    keys = []\r\n",
    "    space = '    '    #this will create indentation later on for subcategories\r\n",
    "    for child in vr_childs:\r\n",
    "        test = child.find(class_='aunp-udajPanel') #check if there is any information available, sometimes there are empty childs, the code will skip them\r\n",
    "        if test is None:\r\n",
    "            continue\r\n",
    "        all_spans = child.find(class_='aunp-udajPanel').findAll('span')\r\n",
    "        parents_vrchild =  child.find_parents(class_='vr-child') \r\n",
    "        spans = []\r\n",
    "        for span in all_spans: #getting all text spans that are not child of any other span\r\n",
    "            span_child = span.findChildren()\r\n",
    "            if span_child:\r\n",
    "                pass\r\n",
    "            else:\r\n",
    "                if span.text.strip(): \r\n",
    "                    spans.append(span)\r\n",
    "                else: pass\r\n",
    "        first_span = spans[0]\r\n",
    "        try:\r\n",
    "            if first_span['class'][0] == 'nounderline':\r\n",
    "                key = len(parents_vrchild)*space + first_span.text.strip()\r\n",
    "                while key in keys:\r\n",
    "                    key = key + '+'\r\n",
    "                spans = spans[1:]\r\n",
    "            else: key = keys[-1]\r\n",
    "        except: key = keys[-1]\r\n",
    "        i = 0  #set an index which helps keep track of the spans used in the next function\r\n",
    "        info = []\r\n",
    "        while i < len(spans):  #this loop makes sure, that the information is kept within the same line as shown on justice.cz\r\n",
    "            span = spans[i]\r\n",
    "            text = span.text\r\n",
    "            try:\r\n",
    "                span_next = spans[i+1]\r\n",
    "            except:\r\n",
    "                info.append(unicodedata.normalize(\"NFKD\",text))\r\n",
    "                break\r\n",
    "            if span.parent == span_next.parent:\r\n",
    "                while span.parent == span_next.parent:\r\n",
    "                    if str(span.next.next) == '<br/>':   #checks if there are no line breaks inserted\r\n",
    "                        break\r\n",
    "                    text = text + span_next.text\r\n",
    "                    i += 1\r\n",
    "                    span = spans[i]\r\n",
    "                    try:\r\n",
    "                        span_next = spans[i+1]\r\n",
    "                    except:\r\n",
    "                        break\r\n",
    "                info.append(unicodedata.normalize(\"NFKD\",text))\r\n",
    "                i += 1\r\n",
    "            else:\r\n",
    "                info.append(unicodedata.normalize(\"NFKD\",text))\r\n",
    "                i += 1\r\n",
    "        if key in keys:\r\n",
    "            data[key].extend(info)\r\n",
    "        else:\r\n",
    "            data[key] = info\r\n",
    "        keys.append(key)\r\n",
    "    return data"
   ]
  },
  {
   "cell_type": "code",
   "execution_count": null,
   "metadata": {},
   "outputs": [],
   "source": [
    "def test_info(icos):\r\n",
    "    for ico in icos:\r\n",
    "        print(ico)\r\n",
    "        get_info(ico)\r\n",
    "        time.sleep(1)\r\n",
    "\r\n",
    "# test_info(icos)"
   ]
  },
  {
   "cell_type": "markdown",
   "metadata": {},
   "source": [
    "## Gettting docx output"
   ]
  },
  {
   "cell_type": "code",
   "execution_count": 4,
   "metadata": {},
   "outputs": [],
   "source": [
    "def get_vypis_doc(ico):\r\n",
    "    data = get_info(ico)\r\n",
    "    keys = list(data.keys())\r\n",
    "\r\n",
    "    #define document and styles settings\r\n",
    "    document = Document()\r\n",
    "\r\n",
    "    style = document.styles['Normal']\r\n",
    "    font = style.font\r\n",
    "    font.name = 'Calibri'\r\n",
    "    font.size = Pt(11)\r\n",
    "    style.paragraph_format.first_line_indent = Inches(-1.4)\r\n",
    "    style.paragraph_format.left_indent = Inches(1.4)\r\n",
    "    style.paragraph_format.space_after = Inches(0)\r\n",
    "    style.paragraph_format.space_before = Inches(0)\r\n",
    "\r\n",
    "    styles = document.styles\r\n",
    "    style1 = styles.add_style('Light', WD_STYLE_TYPE.CHARACTER)\r\n",
    "    font1 = style1.font\r\n",
    "    font1.name = 'Calibri Light'\r\n",
    "    font1.size = Pt(11)\r\n",
    "\r\n",
    "    #get the basic info, which is displayed on the same line:\r\n",
    "    #název společnosti\r\n",
    "    p = document.add_paragraph(style=document.styles['Normal'])\r\n",
    "    p.add_run(keys[0]).bold=True\r\n",
    "    p.add_run('\\t'+data[keys[0]]).bold=True\r\n",
    "    #datum vzniku\r\n",
    "    p = document.add_paragraph(style=document.styles['Normal'])\r\n",
    "    p.add_run(keys[1]).bold=True\r\n",
    "    p.add_run('\\t'+data[keys[1]], style=document.styles['Light'])\r\n",
    "    #spisová značka\r\n",
    "    p = document.add_paragraph(style=document.styles['Normal'])\r\n",
    "    p.add_run(keys[2]).bold=True\r\n",
    "    p.add_run('\\t'+data[keys[2]], style=document.styles['Light'])\r\n",
    "    #sídlo\r\n",
    "    p = document.add_paragraph(style=document.styles['Normal'])\r\n",
    "    p.add_run(keys[3]).bold=True\r\n",
    "    p.add_run('\\t'+data[keys[3]], style=document.styles['Light'])\r\n",
    "    #ičo\r\n",
    "    p = document.add_paragraph(style=document.styles['Normal'])\r\n",
    "    p.add_run(keys[4]).bold=True\r\n",
    "    p.add_run('\\t'+data[keys[4]], style=document.styles['Light'])\r\n",
    "    #právní forma\r\n",
    "    p = document.add_paragraph(style=document.styles['Normal'])\r\n",
    "    p.add_run(keys[5]).bold=True\r\n",
    "    p.add_run('\\t'+data[keys[5]], style=document.styles['Light'])\r\n",
    "    #get the rest of the information\r\n",
    "    if 'Ostatní skutečnosti:' in keys:  #not interested in 'ostatní skutečnosti'\r\n",
    "        position = keys.index('Ostatní skutečnosti:')\r\n",
    "        keys = keys[:position]\r\n",
    "    else: pass\r\n",
    "    for key in keys[6:]: \r\n",
    "        p = document.add_paragraph(style=document.styles['Normal'])\r\n",
    "        p.add_run(key.replace('+','')).bold=True\r\n",
    "        values = data[key]\r\n",
    "        for value in values:\r\n",
    "            p.add_run('\\n'+value, style=document.styles['Light'])\r\n",
    "\r\n",
    "    #document.save('examples/docs/'+f'výpis_{data[keys[0]]}_.docx')\r\n",
    "    document.save(f'výpis_{data[keys[0]]}_.docx')"
   ]
  },
  {
   "cell_type": "code",
   "execution_count": null,
   "metadata": {},
   "outputs": [],
   "source": [
    "def test_docs(icos):\r\n",
    "    i=1\r\n",
    "    for ico in icos:\r\n",
    "        print(f'{ico}+{i}')\r\n",
    "        i += 1\r\n",
    "        get_vypis_doc(ico)\r\n",
    "        time.sleep(1)\r\n",
    "\r\n",
    "# test_docs(icos)"
   ]
  },
  {
   "cell_type": "markdown",
   "metadata": {},
   "source": [
    "## Unused code bellow\r\n"
   ]
  },
  {
   "cell_type": "code",
   "execution_count": null,
   "metadata": {},
   "outputs": [],
   "source": [
    "def getObjects(soup):\r\n",
    "    object_list=[]\r\n",
    "    for article in soup.findAll(class_=\"nounderline\"):\r\n",
    "        article_text = article.text\r\n",
    "        if not article_text:\r\n",
    "            pass\r\n",
    "        else: \r\n",
    "            object_list.append(article)\r\n",
    "    return object_list\r\n",
    "\r\n",
    "def getTextObjects(list):\r\n",
    "    text_obj_list = []\r\n",
    "    for i in list:\r\n",
    "        text = i.text.strip()\r\n",
    "        text_obj_list.append(text)\r\n",
    "    return text_obj_list"
   ]
  },
  {
   "cell_type": "code",
   "execution_count": null,
   "metadata": {},
   "outputs": [],
   "source": [
    "# older approach to get the additional info\r\n",
    "def getInfo(ico):\r\n",
    "    soup = get_soup(ico)\r\n",
    "    data = {}\r\n",
    "    # first getting the basic information which will be formatted differently\r\n",
    "    nazev = soup.find(class_=\"nounderline\").findNext(class_=\"nounderline\").findNext('span').text    #here we take different approach as the object is sometimes Obchodní firma and sometimes different\r\n",
    "    data['Název společnosti:'] = nazev\r\n",
    "\r\n",
    "    date = soup.find(text=\"Datum vzniku a zápisu:\").findNext('div').findNext('div').text\r\n",
    "    data['Datum vzniku:'] = date\r\n",
    "\r\n",
    "    spis = soup.find(text=\"Spisová značka: \").findNext('span').text\r\n",
    "    data['Spisová značka:'] = spis\r\n",
    "\r\n",
    "    sidlo = soup.find(text=\"Sídlo: \").findNext('span').findNext('span').text                      #address is in double span\r\n",
    "    data['Sídlo:'] = sidlo\r\n",
    "\r\n",
    "    data['IČO:'] = str(ico)\r\n",
    "\r\n",
    "    pravni_forma = soup.find(text=\"Právní forma: \").findNext('span').text\r\n",
    "    data['Právní forma:'] = pravni_forma\r\n",
    "    \r\n",
    "    # next get the rest of the information available, except the last one, which is ostatní skutečnosti\r\n",
    "    list_objects = getObjects(soup)\r\n",
    "    for o in list_objects[5:-1]:\r\n",
    "        span = o.findNext('span')\r\n",
    "        info = []\r\n",
    "        while span not in list_objects:\r\n",
    "            if span: #checks if span exists\r\n",
    "                if span.parent.name == 'p': #break the loop after the last span of our interest\r\n",
    "                    break\r\n",
    "                else:\r\n",
    "                    span_child = span.findChildren()\r\n",
    "                    while span_child: #iterates until it hits the last child span\r\n",
    "                        span = span.findNext('span')\r\n",
    "                        span_child = span.findChildren()\r\n",
    "                    if span.text.strip(): #if the span includes some text continues\r\n",
    "                        span_parent = span.parent\r\n",
    "                        span_next = span.findNext('span')\r\n",
    "                        text = span.text\r\n",
    "                        if span_next: #concatenating spans that fall under the same parent so they are shown on the same line\r\n",
    "                            while span_parent == span_next.parent:\r\n",
    "                                text = text + span_next.text\r\n",
    "                                span_next = span_next.findNext('span')\r\n",
    "                                span = span.findNext('span')\r\n",
    "                        info.append(text)\r\n",
    "                        span = span.findNext('span')\r\n",
    "                    else: span = span.findNext('span')\r\n",
    "            else: break\r\n",
    "        key = o.text.strip()\r\n",
    "        if key in data:  #checks if key already exists in dictionary, so it wont replace it\r\n",
    "            key = key + '+'\r\n",
    "        data[key] = info\r\n",
    "    return data\r\n",
    "\r\n",
    "data = getInfo(27082440) #45316872 svetozor\r\n",
    "data"
   ]
  }
 ],
 "metadata": {
  "kernelspec": {
   "display_name": "Python 3.9.1 64-bit",
   "name": "python391jvsc74a57bd0ef3b7270d7f1affd2a393a9c4d04c9df9f7d453de97dd548c3d70953d082d5ca"
  },
  "language_info": {
   "name": "python",
   "version": ""
  },
  "orig_nbformat": 3
 },
 "nbformat": 4,
 "nbformat_minor": 2
}