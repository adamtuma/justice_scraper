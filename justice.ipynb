{
 "cells": [
  {
   "cell_type": "markdown",
   "metadata": {},
   "source": [
    "# Justice scraper 1.0\r\n",
    "\r\n",
    "## created by Adam Tůma\r\n",
    "\r\n",
    "Justice scraper can scrape information of companies once provided with a list of IČOs\r\n",
    "\r\n",
    "The script will return dataset obtaining the following information, with index values as the IČO of given company:\r\n",
    "- Company name / Název společnosti\r\n",
    "- Date of registration / Datum vzniku\r\n",
    "- File number / Spisová značka\r\n",
    "- Address / Sídlo\r\n",
    "- Legal form / Právní forma\r\n",
    "\r\n",
    "The program will then draw a map with tags for all companies.\r\n",
    "\r\n",
    "Next part of the program works for individual companies and it is capable of scraping all of the information and saving it as a dictionary, or additionaly into a docx document.\r\n"
   ]
  },
  {
   "cell_type": "code",
   "execution_count": 20,
   "metadata": {},
   "outputs": [],
   "source": [
    "import scrapy\r\n",
    "import requests\r\n",
    "import pandas as pd\r\n",
    "import geopy\r\n",
    "import time\r\n",
    "import folium\r\n",
    "import docx\r\n",
    "from scrapy.selector import Selector\r\n",
    "from bs4 import BeautifulSoup\r\n",
    "from geopy.geocoders import Nominatim\r\n",
    "from docx import Document\r\n",
    "from docx.shared import Inches\r\n",
    "from docx.shared import Pt\r\n",
    "from docx.enum.style import WD_STYLE_TYPE"
   ]
  },
  {
   "cell_type": "code",
   "execution_count": null,
   "metadata": {},
   "outputs": [],
   "source": [
    "text_icos = open('top100_icos.txt', 'r')\r\n",
    "icos = [line.strip() for line in text_icos]\r\n",
    "text_icos.close()\r\n",
    "\r\n",
    "print(icos)"
   ]
  },
  {
   "cell_type": "code",
   "execution_count": 21,
   "metadata": {},
   "outputs": [],
   "source": [
    "def get_url(ico):\r\n",
    "    url_0 = f\"https://or.justice.cz/ias/ui/rejstrik-$firma?ico={ico}&jenPlatne=PLATNE&polozek=1&typHledani=STARTS_WITH\"\r\n",
    "    html_subjektID = requests.get(url_0).content\r\n",
    "    sel_id = Selector(text=html_subjektID)\r\n",
    "    vypis = sel_id.xpath(\"//li/a[contains(text(),'Výpis platných')]/@href\").extract()\r\n",
    "    subjektID = vypis[0].split('subjektId=')[1].split('&')[0]\r\n",
    "    url = f'https://or.justice.cz/ias/ui/rejstrik-firma.vysledky?subjektId={subjektID}&typ=PLATNY'\r\n",
    "    return url\r\n",
    "\r\n",
    "urls = []\r\n",
    "\r\n",
    "def get_urls(icos):\r\n",
    "    for i in icos:\r\n",
    "        urls.append(get_url(i))\r\n",
    "\r\n",
    "def get_soup(ico):\r\n",
    "    url = get_url(ico)\r\n",
    "    html = requests.get(url).content\r\n",
    "    soup = BeautifulSoup(html, 'lxml')\r\n",
    "    return soup\r\n",
    "\r\n",
    "\r\n"
   ]
  },
  {
   "cell_type": "code",
   "execution_count": null,
   "metadata": {},
   "outputs": [],
   "source": [
    "###some testing\r\n",
    "\r\n",
    "ico = \"27082440\"\r\n",
    "url = f\"https://or.justice.cz/ias/ui/rejstrik-$firma?ico={ico}&jenPlatne=PLATNE&polozek=1&typHledani=STARTS_WITH\"\r\n",
    "url2 = \"https://or.justice.cz/ias/ui/rejstrik-firma.vysledky?subjektId=701502&typ=PLATNY\"\r\n",
    "html = requests.get(url2).content\r\n",
    "soup = BeautifulSoup(html, 'lxml')\r\n",
    "\r\n",
    "match = soup.find(text=\"Obchodní firma: \").findNext('span')\r\n",
    "match2 = match.findNext('span')\r\n",
    "\r\n",
    "\r\n",
    "match3 = soup.find(text=\"Identifikační číslo: \").findNext('span').text\r\n",
    "\r\n",
    "match4 = soup.findAll(class_=\"nounderline\")\r\n",
    "match4[5].findNext('span')\r\n",
    "print(soup.prettify())\r\n",
    "\r\n"
   ]
  },
  {
   "cell_type": "markdown",
   "metadata": {},
   "source": [
    "## The function getBasicInfo obtains basic 5 datapoints that are the same across all companies on justice.cz"
   ]
  },
  {
   "cell_type": "code",
   "execution_count": 22,
   "metadata": {},
   "outputs": [
    {
     "data": {
      "text/html": "<div>\n<style scoped>\n    .dataframe tbody tr th:only-of-type {\n        vertical-align: middle;\n    }\n\n    .dataframe tbody tr th {\n        vertical-align: top;\n    }\n\n    .dataframe thead th {\n        text-align: right;\n    }\n</style>\n<table border=\"1\" class=\"dataframe\">\n  <thead>\n    <tr style=\"text-align: right;\">\n      <th></th>\n      <th>Název společnosti</th>\n      <th>Datum vzniku</th>\n      <th>Spisová značka</th>\n      <th>Sídlo</th>\n      <th>Právní forma</th>\n    </tr>\n  </thead>\n  <tbody>\n    <tr>\n      <th>00177041</th>\n      <td>ŠKODA AUTO a.s.</td>\n      <td>20. listopadu 1990</td>\n      <td>B 332 vedená u Městského soudu v Praze</td>\n      <td>tř. Václava Klementa 869, Mladá Boleslav II, 2...</td>\n      <td>Akciová společnost</td>\n    </tr>\n    <tr>\n      <th>28356250</th>\n      <td>Energetický a průmyslový holding, a.s.</td>\n      <td>10. srpna 2009</td>\n      <td>B 21747 vedená u Městského soudu v Praze</td>\n      <td>Pařížská 130/26, Josefov, 110 00  Praha 1</td>\n      <td>Akciová společnost</td>\n    </tr>\n    <tr>\n      <th>45274649</th>\n      <td>ČEZ, a. s.</td>\n      <td>6. května 1992</td>\n      <td>B 1581 vedená u Městského soudu v Praze</td>\n      <td>Praha 4, Duhová 2/1444, PSČ 14053</td>\n      <td>Akciová společnost</td>\n    </tr>\n    <tr>\n      <th>26185610</th>\n      <td>AGROFERT, a.s.</td>\n      <td>1. července 2000</td>\n      <td>B 6626 vedená u Městského soudu v Praze</td>\n      <td>Pyšelská 2327/2, Chodov, 149 00  Praha 4</td>\n      <td>Akciová společnost</td>\n    </tr>\n    <tr>\n      <th>25938002</th>\n      <td>FOXCONN CZ s.r.o.</td>\n      <td>18. května 2000</td>\n      <td>C 16095 vedená u Krajského soudu v Hradci Králové</td>\n      <td>U Zámečku 27, Pardubičky, 530 03  Pardubice</td>\n      <td>Společnost s ručením omezeným</td>\n    </tr>\n    <tr>\n      <th>...</th>\n      <td>...</td>\n      <td>...</td>\n      <td>...</td>\n      <td>...</td>\n      <td>...</td>\n    </tr>\n    <tr>\n      <th>63145936</th>\n      <td>Benteler ČR s.r.o.</td>\n      <td>12. července 1995</td>\n      <td>C 22895 vedená u Krajského soudu v Ústí nad Labem</td>\n      <td>Školní 713, 463 31  Chrastava</td>\n      <td>Společnost s ručením omezeným</td>\n    </tr>\n    <tr>\n      <th>49284975</th>\n      <td>KIEKERT-CS, s.r.o.</td>\n      <td>1. června 1993</td>\n      <td>C 4473 vedená u Krajského soudu v Hradci Králové</td>\n      <td>Jaselská 593, 535 01  Přelouč</td>\n      <td>Společnost s ručením omezeným</td>\n    </tr>\n    <tr>\n      <th>02397811</th>\n      <td>Adient Bor s.r.o.</td>\n      <td>3. prosince 2013</td>\n      <td>C 36301 vedená u Krajského soudu v Plzni</td>\n      <td>Nová Hospoda 29, 348 02  Bor</td>\n      <td>Společnost s ručením omezeným</td>\n    </tr>\n    <tr>\n      <th>26307391</th>\n      <td>Miele technika s.r.o.</td>\n      <td>13. prosince 2002</td>\n      <td>C 28029 vedená u Krajského soudu v Ostravě</td>\n      <td>Uničov, Šumperská 1348, PSČ 78391</td>\n      <td>Společnost s ručením omezeným</td>\n    </tr>\n    <tr>\n      <th>47239581</th>\n      <td>dm drogerie markt s.r.o.</td>\n      <td>9. září 1992</td>\n      <td>C 1935 vedená u Krajského soudu v Českých Budě...</td>\n      <td>Jeronýmova 1485/19, České Budějovice 6, 370 01...</td>\n      <td>Společnost s ručením omezeným</td>\n    </tr>\n  </tbody>\n</table>\n<p>100 rows × 5 columns</p>\n</div>",
      "text/plain": "                               Název společnosti        Datum vzniku  \\\n00177041                         ŠKODA AUTO a.s.  20. listopadu 1990   \n28356250  Energetický a průmyslový holding, a.s.      10. srpna 2009   \n45274649                              ČEZ, a. s.      6. května 1992   \n26185610                          AGROFERT, a.s.    1. července 2000   \n25938002                       FOXCONN CZ s.r.o.     18. května 2000   \n...                                          ...                 ...   \n63145936                      Benteler ČR s.r.o.   12. července 1995   \n49284975                      KIEKERT-CS, s.r.o.      1. června 1993   \n02397811                       Adient Bor s.r.o.    3. prosince 2013   \n26307391                   Miele technika s.r.o.   13. prosince 2002   \n47239581                dm drogerie markt s.r.o.        9. září 1992   \n\n                                             Spisová značka  \\\n00177041             B 332 vedená u Městského soudu v Praze   \n28356250           B 21747 vedená u Městského soudu v Praze   \n45274649            B 1581 vedená u Městského soudu v Praze   \n26185610            B 6626 vedená u Městského soudu v Praze   \n25938002  C 16095 vedená u Krajského soudu v Hradci Králové   \n...                                                     ...   \n63145936  C 22895 vedená u Krajského soudu v Ústí nad Labem   \n49284975   C 4473 vedená u Krajského soudu v Hradci Králové   \n02397811           C 36301 vedená u Krajského soudu v Plzni   \n26307391         C 28029 vedená u Krajského soudu v Ostravě   \n47239581  C 1935 vedená u Krajského soudu v Českých Budě...   \n\n                                                      Sídlo  \\\n00177041  tř. Václava Klementa 869, Mladá Boleslav II, 2...   \n28356250          Pařížská 130/26, Josefov, 110 00  Praha 1   \n45274649                  Praha 4, Duhová 2/1444, PSČ 14053   \n26185610           Pyšelská 2327/2, Chodov, 149 00  Praha 4   \n25938002        U Zámečku 27, Pardubičky, 530 03  Pardubice   \n...                                                     ...   \n63145936                      Školní 713, 463 31  Chrastava   \n49284975                      Jaselská 593, 535 01  Přelouč   \n02397811                       Nová Hospoda 29, 348 02  Bor   \n26307391                  Uničov, Šumperská 1348, PSČ 78391   \n47239581  Jeronýmova 1485/19, České Budějovice 6, 370 01...   \n\n                           Právní forma  \n00177041             Akciová společnost  \n28356250             Akciová společnost  \n45274649             Akciová společnost  \n26185610             Akciová společnost  \n25938002  Společnost s ručením omezeným  \n...                                 ...  \n63145936  Společnost s ručením omezeným  \n49284975  Společnost s ručením omezeným  \n02397811  Společnost s ručením omezeným  \n26307391  Společnost s ručením omezeným  \n47239581  Společnost s ručením omezeným  \n\n[100 rows x 5 columns]"
     },
     "execution_count": 22,
     "metadata": {},
     "output_type": "execute_result"
    }
   ],
   "source": [
    "def getBasicInfo(icos):\r\n",
    "    df = pd.DataFrame(index=icos, columns = ['Název společnosti', 'Datum vzniku', 'Spisová značka', 'Sídlo', 'Právní forma'])\r\n",
    "    for ico in icos:\r\n",
    "        soup = get_soup(ico)\r\n",
    "\r\n",
    "        date = soup.find(text=\"Datum vzniku a zápisu:\").findNext('div').findNext('div').text\r\n",
    "        df.loc[ico,'Datum vzniku'] = date\r\n",
    "\r\n",
    "        spis = soup.find(text=\"Spisová značka: \").findNext('span').text\r\n",
    "        df.loc[ico,'Spisová značka'] = spis\r\n",
    "\r\n",
    "        nazev = soup.find(class_=\"nounderline\").findNext(class_=\"nounderline\").findNext('span').text    # here we take different approach as the object is sometimes Obchodní firma and sometimes different\r\n",
    "        df.loc[ico,'Název společnosti'] = nazev\r\n",
    "\r\n",
    "        sidlo = soup.find(text=\"Sídlo: \").findNext('span').findNext('span').text                        # address is in double span\r\n",
    "        df.loc[ico,'Sídlo'] = sidlo\r\n",
    "\r\n",
    "        pravni_forma = soup.find(text=\"Právní forma: \").findNext('span').text\r\n",
    "        df.loc[ico,'Právní forma'] = pravni_forma\r\n",
    "        time.sleep(1)   # added 1 second sleep as justice temporarily banned access for my IP, maybe this will help\r\n",
    "    return df\r\n",
    "\r\n",
    "#df = getBasicInfo(icos)\r\n",
    "df"
   ]
  },
  {
   "cell_type": "code",
   "execution_count": null,
   "metadata": {},
   "outputs": [],
   "source": [
    "def getCoordinates(df):\r\n",
    "    ### FUNCTION TO OBTAIN GPS COORDINATES FROM ADDRES ###\r\n",
    "    locator = Nominatim(user_agent='justice_scraper')\r\n",
    "    list_address = df.loc[:,'Sídlo'].tolist()\r\n",
    "    latitudes = []\r\n",
    "    longitudes = []\r\n",
    "    for i in list_address:\r\n",
    "        split = i.split(',')                        # first we try to obtain coordinates from the first 2 splits in the addres, usually the street name and number + city\r\n",
    "        address = split[0]+', '+split[1]\r\n",
    "        location = locator.geocode(address)\r\n",
    "        if not location:                            # sometimes the address is wierdly formatted and the second info is the postal code, which results in not finding any coordinates, we then try only from the first split\r\n",
    "            split1 = i.split(',')\r\n",
    "            address1 = split1[0]\r\n",
    "            lat1 = locator.geocode(address1).latitude\r\n",
    "            lon1 = locator.geocode(address1).longitude\r\n",
    "            latitudes.append(lat1)\r\n",
    "            longitudes.append(lon1)\r\n",
    "        else: \r\n",
    "            lat = locator.geocode(address).latitude\r\n",
    "            lon = locator.geocode(address).longitude\r\n",
    "            latitudes.append(lat)\r\n",
    "            longitudes.append(lon)\r\n",
    "    df['latitude'] = latitudes\r\n",
    "    df['longitude'] = longitudes\r\n",
    "    return df\r\n",
    "\r\n",
    "df = getCoordinates(df)\r\n",
    "df"
   ]
  },
  {
   "cell_type": "code",
   "execution_count": 26,
   "metadata": {},
   "outputs": [],
   "source": [
    "map1 = folium.Map(\r\n",
    "    location=[49.861464, 15.496766],\r\n",
    "    tiles='cartodbpositron',\r\n",
    "    zoom_start=8,\r\n",
    ")\r\n",
    "\r\n",
    "df.apply(lambda row:folium.Marker(location=[row[\"latitude\"], row[\"longitude\"]], popup=row['Název společnosti']).add_to(map1), axis=1)\r\n",
    "\r\n",
    "map1.save(outfile= \"map.html\")"
   ]
  },
  {
   "cell_type": "markdown",
   "metadata": {},
   "source": [
    "## Obtaining more complex info that differs across companies\r\n",
    "\r\n",
    "filtering the objects so they only include non-empty strings"
   ]
  },
  {
   "cell_type": "code",
   "execution_count": null,
   "metadata": {},
   "outputs": [],
   "source": [
    "# testing\r\n",
    "\r\n",
    "soup2 = get_soup(27082440)\r\n",
    "soup2"
   ]
  },
  {
   "cell_type": "code",
   "execution_count": null,
   "metadata": {},
   "outputs": [],
   "source": [
    "def getObjects(soup):\r\n",
    "    object_list=[]\r\n",
    "    for article in soup.findAll(class_=\"nounderline\"):\r\n",
    "        article_text = article.text\r\n",
    "        if not article_text:\r\n",
    "            pass\r\n",
    "        else: \r\n",
    "            object_list.append(article)\r\n",
    "    return object_list\r\n",
    "\r\n",
    "def getTextObjects(list):\r\n",
    "    text_obj_list = []\r\n",
    "    for i in list:\r\n",
    "        text = i.text.strip()\r\n",
    "        text_obj_list.append(text)\r\n",
    "    return text_obj_list\r\n",
    "\r\n",
    "list_objects = getObjects(soup2)\r\n",
    "text_objects = getTextObjects(list_objects)\r\n",
    "list_objects[2].findNext('span').findNext('span').findChildren()\r\n",
    "list_objects\r\n"
   ]
  },
  {
   "cell_type": "code",
   "execution_count": null,
   "metadata": {},
   "outputs": [],
   "source": [
    "def getInfo(ico):\r\n",
    "    soup = get_soup(ico)\r\n",
    "    data = {}\r\n",
    "    # first getting the basic information which will be formatted differently\r\n",
    "    nazev = soup.find(class_=\"nounderline\").findNext(class_=\"nounderline\").findNext('span').text    #here we take different approach as the object is sometimes Obchodní firma and sometimes different\r\n",
    "    data['Název společnosti:'] = nazev\r\n",
    "\r\n",
    "    date = soup.find(text=\"Datum vzniku a zápisu:\").findNext('div').findNext('div').text\r\n",
    "    data['Datum vzniku:'] = date\r\n",
    "\r\n",
    "    spis = soup.find(text=\"Spisová značka: \").findNext('span').text\r\n",
    "    data['Spisová značka:'] = spis\r\n",
    "\r\n",
    "    sidlo = soup.find(text=\"Sídlo: \").findNext('span').findNext('span').text                      #address is in double span\r\n",
    "    data['Sídlo:'] = sidlo\r\n",
    "\r\n",
    "    data['IČO:'] = str(ico)\r\n",
    "\r\n",
    "    pravni_forma = soup.find(text=\"Právní forma: \").findNext('span').text\r\n",
    "    data['Právní forma:'] = pravni_forma\r\n",
    "    # next get the rest of the information available, except the last one, which is ostatní skutečnosti\r\n",
    "    list_objects = getObjects(soup)\r\n",
    "    for o in list_objects[5:-1]:\r\n",
    "        span = o.findNext('span')\r\n",
    "        info = []\r\n",
    "        while span not in list_objects:\r\n",
    "            if span: #checks if span exists\r\n",
    "                if span.parent.name == 'p': #break the loop after the last span of our interest\r\n",
    "                    break\r\n",
    "                else:\r\n",
    "                    span_child = span.findChildren()\r\n",
    "                    while span_child: #iterates until it hits the last child span\r\n",
    "                        span = span.findNext('span')\r\n",
    "                        span_child = span.findChildren()\r\n",
    "                    if span.text.strip(): #if the span includes some text continues\r\n",
    "                        span_parent = span.parent\r\n",
    "                        span_next = span.findNext('span')\r\n",
    "                        text = span.text\r\n",
    "                        if span_next: #concatenating spans that fall under the same parent so they are shown on the same line\r\n",
    "                            while span_parent == span_next.parent:\r\n",
    "                                text = text + span_next.text\r\n",
    "                                span_next = span_next.findNext('span')\r\n",
    "                                span = span.findNext('span')\r\n",
    "                        info.append(text)\r\n",
    "                        span = span.findNext('span')\r\n",
    "                    else: span = span.findNext('span')\r\n",
    "            else: break\r\n",
    "        key = o.text.strip()\r\n",
    "        if key in data:  #checks if key already exists in dictionary, so it wont replace it\r\n",
    "            key = key + '+'\r\n",
    "        data[key] = info\r\n",
    "    return data\r\n",
    "\r\n",
    "data = getInfo(45316872) #27082440 alza\r\n",
    "data"
   ]
  },
  {
   "cell_type": "code",
   "execution_count": 90,
   "metadata": {},
   "outputs": [
    {
     "data": {
      "text/plain": "2"
     },
     "execution_count": 90,
     "metadata": {},
     "output_type": "execute_result"
    }
   ],
   "source": [
    "soup2 = get_soup(45316872)\r\n",
    "\r\n",
    "# soup2.find(class_=\"aunp-content\").findAll(class_='vr-child', recursive=False)[8].findAll(class_='nounderline')[3].findSibling('span')\r\n",
    "\r\n",
    "parents = soup2.find(class_=\"aunp-content\").findAll(class_='vr-child')[31].find_parents(class_='vr-child')  ##this is how to keep track of indents\r\n",
    "len(parents)"
   ]
  },
  {
   "cell_type": "code",
   "execution_count": 1,
   "metadata": {},
   "outputs": [
    {
     "ename": "NameError",
     "evalue": "name 'soup2' is not defined",
     "output_type": "error",
     "traceback": [
      "\u001b[1;31m---------------------------------------------------------------------------\u001b[0m",
      "\u001b[1;31mNameError\u001b[0m                                 Traceback (most recent call last)",
      "\u001b[1;32m<ipython-input-1-08b52f889bf2>\u001b[0m in \u001b[0;36m<module>\u001b[1;34m\u001b[0m\n\u001b[1;32m----> 1\u001b[1;33m \u001b[0mtest\u001b[0m \u001b[1;33m=\u001b[0m \u001b[0msoup2\u001b[0m\u001b[1;33m.\u001b[0m\u001b[0mfind\u001b[0m\u001b[1;33m(\u001b[0m\u001b[0mclass_\u001b[0m\u001b[1;33m=\u001b[0m\u001b[1;34m\"aunp-content\"\u001b[0m\u001b[1;33m)\u001b[0m\u001b[1;33m.\u001b[0m\u001b[0mfindAll\u001b[0m\u001b[1;33m(\u001b[0m\u001b[0mclass_\u001b[0m\u001b[1;33m=\u001b[0m\u001b[1;34m'vr-child'\u001b[0m\u001b[1;33m)\u001b[0m\u001b[1;33m[\u001b[0m\u001b[1;36m30\u001b[0m\u001b[1;33m]\u001b[0m\u001b[1;33m.\u001b[0m\u001b[0mfindNext\u001b[0m\u001b[1;33m(\u001b[0m\u001b[0mclass_\u001b[0m\u001b[1;33m=\u001b[0m\u001b[1;34m'aunp-udajPanel'\u001b[0m\u001b[1;33m)\u001b[0m\u001b[1;33m.\u001b[0m\u001b[0mfindAll\u001b[0m\u001b[1;33m(\u001b[0m\u001b[1;34m'span'\u001b[0m\u001b[1;33m)\u001b[0m\u001b[1;33m\u001b[0m\u001b[1;33m\u001b[0m\u001b[0m\n\u001b[0m\u001b[0;32m      2\u001b[0m \u001b[1;33m\u001b[0m\u001b[0m\n\u001b[0;32m      3\u001b[0m \u001b[0mspans\u001b[0m \u001b[1;33m=\u001b[0m \u001b[1;33m[\u001b[0m\u001b[1;33m]\u001b[0m\u001b[1;33m\u001b[0m\u001b[1;33m\u001b[0m\u001b[0m\n\u001b[0;32m      4\u001b[0m \u001b[1;32mfor\u001b[0m \u001b[0mspan\u001b[0m \u001b[1;32min\u001b[0m \u001b[0mtest\u001b[0m\u001b[1;33m:\u001b[0m \u001b[1;31m#getting all text spans\u001b[0m\u001b[1;33m\u001b[0m\u001b[1;33m\u001b[0m\u001b[0m\n\u001b[0;32m      5\u001b[0m     \u001b[0mspan_child\u001b[0m \u001b[1;33m=\u001b[0m \u001b[0mspan\u001b[0m\u001b[1;33m.\u001b[0m\u001b[0mfindChildren\u001b[0m\u001b[1;33m(\u001b[0m\u001b[1;33m)\u001b[0m\u001b[1;33m\u001b[0m\u001b[1;33m\u001b[0m\u001b[0m\n",
      "\u001b[1;31mNameError\u001b[0m: name 'soup2' is not defined"
     ]
    }
   ],
   "source": [
    "# working on a different approach that will be hopefully able to overcome more inconsistencies in formatting of justice website\r\n",
    "\r\n",
    "test = soup2.find(class_=\"aunp-content\").findAll(class_='vr-child')[30].findNext(class_='aunp-udajPanel').findAll('span')\r\n",
    "\r\n",
    "spans = []\r\n",
    "for span in test: #getting all text spans\r\n",
    "    span_child = span.findChildren()\r\n",
    "    if span_child: \r\n",
    "        pass\r\n",
    "    else:\r\n",
    "        if span.text.strip():  #only save the spans which include some text\r\n",
    "            spans.append(span)\r\n",
    "        else: pass\r\n",
    "\r\n",
    "parents = []\r\n",
    "for span in spans:\r\n",
    "    parent = span.parent\r\n",
    "    parents.append(parent)\r\n",
    "\r\n",
    "parents\r\n",
    "\r\n",
    "i = 0\r\n",
    "info = []\r\n",
    "while i < len(spans):\r\n",
    "    span = spans[i]\r\n",
    "    text = span.text.strip()\r\n",
    "    try:\r\n",
    "        span_next = spans[i+1]\r\n",
    "    except:\r\n",
    "        info.append(text)\r\n",
    "        break\r\n",
    "    if span.parent == span_next.parent:\r\n",
    "        while span.parent == span_next.parent:\r\n",
    "            text = text + span_next.text.strip()\r\n",
    "            i += 1\r\n",
    "            span = spans[i]\r\n",
    "            try:\r\n",
    "                span_next = spans[i+1]\r\n",
    "            except:\r\n",
    "                break\r\n",
    "        info.append(text)\r\n",
    "        i += 1\r\n",
    "    else:\r\n",
    "        info.append(text)\r\n",
    "        i += 1\r\n",
    "        \r\n",
    "info\r\n",
    "\r\n",
    "    # if span_next:\r\n",
    "    #             while span_parent == span_next.parent:\r\n",
    "    #             text = text + span_next.text\r\n",
    "    #             span_next = span_next.findNext('span')\r\n",
    "    #             span = span.findNext('span')\r\n",
    "\r\n"
   ]
  },
  {
   "cell_type": "code",
   "execution_count": 31,
   "metadata": {},
   "outputs": [],
   "source": [
    "def getInfo2(ico):\r\n",
    "    soup = get_soup(icos)\r\n",
    "    data = {}\r\n",
    "    kids = soup.findChildren(class_='vr-child')\r\n"
   ]
  },
  {
   "cell_type": "code",
   "execution_count": null,
   "metadata": {},
   "outputs": [],
   "source": [
    "keys = list(data.keys())\r\n",
    "keys"
   ]
  },
  {
   "cell_type": "markdown",
   "metadata": {},
   "source": [
    "## Gettting docx output"
   ]
  },
  {
   "cell_type": "code",
   "execution_count": 405,
   "metadata": {},
   "outputs": [],
   "source": [
    "def get_vypis_doc(ico):\r\n",
    "    data = getInfo(ico)\r\n",
    "    keys = list(data.keys())\r\n",
    "\r\n",
    "    #define document and styles settings\r\n",
    "    document = Document()\r\n",
    "\r\n",
    "    style = document.styles['Normal']\r\n",
    "    font = style.font\r\n",
    "    font.name = 'Calibri'\r\n",
    "    font.size = Pt(11)\r\n",
    "    style.paragraph_format.first_line_indent = Inches(-1.4)\r\n",
    "    style.paragraph_format.left_indent = Inches(1.4)\r\n",
    "    style.paragraph_format.space_after = Inches(0)\r\n",
    "    style.paragraph_format.space_before = Inches(0)\r\n",
    "\r\n",
    "    styles = document.styles\r\n",
    "    style1 = styles.add_style('Light', WD_STYLE_TYPE.CHARACTER)\r\n",
    "    font1 = style1.font\r\n",
    "    font1.name = 'Calibri Light'\r\n",
    "    font1.size = Pt(11)\r\n",
    "\r\n",
    "    #get the basic info, which is displayed on the same line:\r\n",
    "    #název společnosti\r\n",
    "    p = document.add_paragraph(style=document.styles['Normal'])\r\n",
    "    p.add_run(keys[0]).bold=True\r\n",
    "    p.add_run('\\t'+data[keys[0]]).bold=True\r\n",
    "    #datum vzniku\r\n",
    "    p = document.add_paragraph(style=document.styles['Normal'])\r\n",
    "    p.add_run(keys[1]).bold=True\r\n",
    "    p.add_run('\\t'+data[keys[1]], style=document.styles['Light'])\r\n",
    "    #spisová značka\r\n",
    "    p = document.add_paragraph(style=document.styles['Normal'])\r\n",
    "    p.add_run(keys[2]).bold=True\r\n",
    "    p.add_run('\\t'+data[keys[2]], style=document.styles['Light'])\r\n",
    "    #sídlo\r\n",
    "    p = document.add_paragraph(style=document.styles['Normal'])\r\n",
    "    p.add_run(keys[3]).bold=True\r\n",
    "    p.add_run('\\t'+data[keys[3]], style=document.styles['Light'])\r\n",
    "    #ičo\r\n",
    "    p = document.add_paragraph(style=document.styles['Normal'])\r\n",
    "    p.add_run(keys[4]).bold=True\r\n",
    "    p.add_run('\\t'+data[keys[4]], style=document.styles['Light'])\r\n",
    "    #právní forma\r\n",
    "    p = document.add_paragraph(style=document.styles['Normal'])\r\n",
    "    p.add_run(keys[5]).bold=True\r\n",
    "    p.add_run('\\t'+data[keys[5]], style=document.styles['Light'])\r\n",
    "    #get the rest of the information\r\n",
    "    for key in keys[6:]:\r\n",
    "        p = document.add_paragraph(style=document.styles['Normal'])\r\n",
    "        p.add_run(key.replace('+','')).bold=True\r\n",
    "        values = data[key]\r\n",
    "        for value in values:\r\n",
    "            p.add_run('\\n'+value, style=document.styles['Light'])\r\n",
    "\r\n",
    "    document.save(f'výpis_{data[keys[0]]}_.docx')\r\n",
    "\r\n"
   ]
  },
  {
   "cell_type": "code",
   "execution_count": null,
   "metadata": {},
   "outputs": [],
   "source": [
    "def getVrChilds(soup):\r\n",
    "    object_list=[]\r\n",
    "    for article in soup.findAll(class=\"vr-child\"):\r\n",
    "        article_text = article.text\r\n",
    "        if not article_text:\r\n",
    "            pass\r\n",
    "        else: \r\n",
    "            object_list.append(article)\r\n",
    "    return object_list\r\n",
    "\r\n",
    "getVrChilds(soup2)"
   ]
  },
  {
   "cell_type": "code",
   "execution_count": 32,
   "metadata": {},
   "outputs": [
    {
     "data": {
      "text/plain": "<div class=\"vr-hlavicka\"><span class=\"nounderline\"></span></div>"
     },
     "execution_count": 32,
     "metadata": {},
     "output_type": "execute_result"
    }
   ],
   "source": [
    "level_1 = soup2.find(class_=\"aunp-content\").findAll(class_='vr-child', recursive=False)\r\n",
    "\r\n",
    "level_1[6].findAll(class_='vr-child')[1].findNext('span').parent\r\n",
    "\r\n",
    "\r\n",
    "\r\n"
   ]
  },
  {
   "cell_type": "code",
   "execution_count": 26,
   "metadata": {},
   "outputs": [
    {
     "data": {
      "text/plain": "Spisová značka:                     NaN\nObchodní firma:                  [alza]\nSídlo:                   [ahoj, nashle]\nIdentifikační číslo:                NaN\nPrávní forma:                       NaN\nPředmět podnikání:                  NaN\nStatutární orgán:                   NaN\njednatel:                           NaN\njednatel:                           NaN\nPočet členů:                        NaN\nZpůsob jednání:                     NaN\nSpolečníci:                         NaN\nSpolečník:                          NaN\nPodíl:                              NaN\nZákladní kapitál:                   NaN\nOstatní skutečnosti:                NaN\ndtype: object"
     },
     "execution_count": 26,
     "metadata": {},
     "output_type": "execute_result"
    }
   ],
   "source": [
    "## This is the idea how to fill out the series for companies\r\n",
    "\r\n",
    "d = {list_objects[1].text : ['alza'], list_objects[2].text : ['ahoj','nashle']}\r\n",
    "\r\n",
    "series = pd.Series(data = d, index = text_objects)\r\n",
    "series\r\n"
   ]
  },
  {
   "cell_type": "markdown",
   "metadata": {},
   "source": [
    "## Idea - !!OUTDATED!!\r\n",
    "1. Pomocí soup.findAll(class_=\"nounderline\") najdeme všechny typy informací, která má daná firma available - krom data vzniku a zapisu viz problem 1\r\n",
    "2. Udělá se loop, který pro každý typ informace shromáždí info pomocí findNext('span'). V tom bude další loop, který bude findNext('span') opakovat, dokud se to nebude rovnat dalšímu typu informace (viz html tree)\r\n",
    "3. Pro každý typ informace uděláme dict ve stylu {typ1 : [info1], typ2 : [info1, info2], typ3 : [info1, info2, info3]} atp... z čehož se následně udělá pdSeries\r\n",
    "4. pak to nějak zpracuju :) \r\n",
    "\r\n",
    "## Problems to overcome\r\n",
    "\r\n",
    "1. Datum vzniku a zápisu musí být zvlášť, není to (class_=\"nounderline\")\r\n",
    "2. Adresy (jak sídlo tak u lidí) jsou v dvojitém spanu, musí se udělat check, že list_objects[1].findNext('span').findChildren() nemá children, a když jo, tak zahodit ten span a vzít až další\r\n",
    "3. sposta random prázdných <span>, udělat check a zahodit\r\n",
    "4. na další problémy určitě narazíme\r\n",
    "\r\n",
    "RANDOM BORDEL BELLOW\r\n"
   ]
  },
  {
   "cell_type": "code",
   "execution_count": 31,
   "metadata": {},
   "outputs": [
    {
     "ename": "IndentationError",
     "evalue": "expected an indented block (<ipython-input-31-fb15e9407ecb>, line 7)",
     "output_type": "error",
     "traceback": [
      "\u001b[1;36m  File \u001b[1;32m\"<ipython-input-31-fb15e9407ecb>\"\u001b[1;36m, line \u001b[1;32m7\u001b[0m\n\u001b[1;33m    \u001b[0m\n\u001b[1;37m    ^\u001b[0m\n\u001b[1;31mIndentationError\u001b[0m\u001b[1;31m:\u001b[0m expected an indented block\n"
     ]
    }
   ],
   "source": [
    "def getObjectInfo(soup):\r\n",
    "    list_objects = getObjects(soup)\r\n",
    "    text_objects = getTextObjects(list_objects)\r\n",
    "    for object in list_objects:\r\n",
    "        next_span = object.findNext('span')\r\n",
    "        while next_span != object+1:\r\n",
    "\r\n"
   ]
  },
  {
   "cell_type": "code",
   "execution_count": null,
   "metadata": {},
   "outputs": [],
   "source": [
    "prvni = filter_list[16].findNext('span')\r\n",
    "prvni_text = prvni.text\r\n",
    "druhy = prvni.findNext('span')\r\n",
    "druhy_text = druhy.text\r\n",
    "treti = druhy.findNext('span')\r\n",
    "treti_text = treti.text\r\n",
    "prvni_text"
   ]
  },
  {
   "cell_type": "code",
   "execution_count": 86,
   "metadata": {},
   "outputs": [
    {
     "name": "stdout",
     "output_type": "stream",
     "text": [
      "Alza.cz a.s.\n"
     ]
    }
   ],
   "source": [
    "testik = soup.find(class_=\"nounderline\").findNext(class_=\"nounderline\").findNext('span').text\r\n",
    "print(testik)\r\n"
   ]
  },
  {
   "cell_type": "code",
   "execution_count": null,
   "metadata": {},
   "outputs": [],
   "source": [
    "info = []\r\n",
    "\r\n",
    "def info_attacher(list):\r\n",
    "    for object in list:\r\n",
    "        while True:\r\n",
    "            if object.text == (object+1).text:\r\n",
    "                pass\r\n",
    "            elif not i.text:\r\n",
    "                pass\r\n",
    "            else:\r\n",
    "                info.append(i.text)\r\n",
    "\r\n",
    "info_attacher(filter_list)\r\n",
    "            "
   ]
  }
 ],
 "metadata": {
  "kernelspec": {
   "display_name": "Python 3.9.1 64-bit",
   "name": "python391jvsc74a57bd0ef3b7270d7f1affd2a393a9c4d04c9df9f7d453de97dd548c3d70953d082d5ca"
  },
  "language_info": {
   "name": "python",
   "version": ""
  },
  "orig_nbformat": 2
 },
 "nbformat": 4,
 "nbformat_minor": 2
}