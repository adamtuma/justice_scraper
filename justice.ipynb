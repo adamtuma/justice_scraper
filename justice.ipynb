{
 "cells": [
  {
   "cell_type": "markdown",
   "metadata": {},
   "source": [
    "Here I try the code"
   ]
  },
  {
   "cell_type": "code",
   "execution_count": 2,
   "metadata": {},
   "outputs": [],
   "source": [
    "import scrapy\r\n",
    "import requests\r\n",
    "from bs4 import BeautifulSoup\r\n",
    "from scrapy import Selector\r\n",
    "from scrapy.crawler import CrawlerProcess"
   ]
  },
  {
   "cell_type": "code",
   "execution_count": null,
   "metadata": {},
   "outputs": [],
   "source": [
    "ico = [\"27201121\",\"27201121\"]\r\n",
    "start_urls = f\"https://or.justice.cz/ias/ui/rejstrik-$firma?ico={ico}&jenPlatne=PLATNE&polozek=1&typHledani=STARTS_WITH\"\r\n",
    "\r\n",
    "html = requests.get(url).content\r\n",
    "\r\n",
    "html"
   ]
  },
  {
   "cell_type": "code",
   "execution_count": 24,
   "metadata": {},
   "outputs": [
    {
     "data": {
      "text/plain": "['https://or.justice.cz/ias/ui/rejstrik-firma.vysledky?subjektId=295987&typ=PLATNY',\n 'https://or.justice.cz/ias/ui/rejstrik-firma.vysledky?subjektId=701502&typ=PLATNY']"
     },
     "execution_count": 24,
     "metadata": {},
     "output_type": "execute_result"
    }
   ],
   "source": [
    "def get_url(ico):\r\n",
    "    url_0 = f\"https://or.justice.cz/ias/ui/rejstrik-$firma?ico={ico}&jenPlatne=PLATNE&polozek=1&typHledani=STARTS_WITH\"\r\n",
    "    html_subjektID = requests.get(url_0).content\r\n",
    "    sel_id = Selector(text=html_subjektID)\r\n",
    "    vypis = sel_id.xpath(\"//li/a[contains(text(),'Výpis platných')]/@href\").extract()\r\n",
    "    subjektID = vypis[0].split('subjektId=')[1].split('&')[0]\r\n",
    "    url = f'https://or.justice.cz/ias/ui/rejstrik-firma.vysledky?subjektId={subjektID}&typ=PLATNY'\r\n",
    "    return url\r\n",
    "\r\n",
    "urls = []\r\n",
    "\r\n",
    "def get_urls(icos):\r\n",
    "    for i in icos:\r\n",
    "        urls.append(get_url(i))\r\n",
    "\r\n",
    "\r\n",
    "#get_url(27082440)\r\n",
    "icos = [\"27201121\",\"27082440\"]\r\n",
    "get_urls(icos)\r\n",
    "urls\r\n"
   ]
  },
  {
   "cell_type": "code",
   "execution_count": null,
   "metadata": {},
   "outputs": [],
   "source": [
    "ico = \"27082440\"\r\n",
    "url = f\"https://or.justice.cz/ias/ui/rejstrik-$firma?ico={ico}&jenPlatne=PLATNE&polozek=1&typHledani=STARTS_WITH\"\r\n",
    "url2 = \"https://or.justice.cz/ias/ui/rejstrik-firma.vysledky?subjektId=701502&typ=PLATNY\"\r\n",
    "html = requests.get(url2).content\r\n",
    "soup = BeautifulSoup(html, 'lxml')\r\n",
    "\r\n",
    "match = soup.find(text=\"Obchodní firma: \").findNext('span')\r\n",
    "match2 = match.findNext('span')\r\n",
    "\r\n",
    "\r\n",
    "match3 = soup.find(text=\"Identifikační číslo: \").findNext('span').text\r\n",
    "\r\n",
    "match4 = soup.findAll(class_=\"nounderline\")\r\n",
    "match4[5].findNext('span')\r\n",
    "print(soup.prettify())\r\n",
    "\r\n"
   ]
  },
  {
   "cell_type": "markdown",
   "metadata": {},
   "source": [
    "getting the main data points in nice format"
   ]
  },
  {
   "cell_type": "code",
   "execution_count": null,
   "metadata": {},
   "outputs": [],
   "source": [
    "def get_date(url):\r\n",
    "    "
   ]
  },
  {
   "cell_type": "markdown",
   "metadata": {},
   "source": [
    "filtering the objects so they only include non-empty strings"
   ]
  },
  {
   "cell_type": "code",
   "execution_count": null,
   "metadata": {},
   "outputs": [],
   "source": [
    "filter_list=[]\r\n",
    "\r\n",
    "for article in soup.findAll(class_=\"nounderline\"):\r\n",
    "    article_text = article.text\r\n",
    "    if not article_text:\r\n",
    "        pass\r\n",
    "    else: \r\n",
    "        filter_list.append(article)\r\n",
    "\r\n",
    "filter_list\r\n"
   ]
  },
  {
   "cell_type": "code",
   "execution_count": 21,
   "metadata": {},
   "outputs": [
    {
     "data": {
      "text/plain": "<span class=\"nounderline\"></span>"
     },
     "execution_count": 21,
     "metadata": {},
     "output_type": "execute_result"
    }
   ],
   "source": [
    "prvni = filter_list[5].findNext('span')\r\n",
    "prvni_text = prvni.text\r\n",
    "druhy = prvni.findNext('span')\r\n",
    "druhy_text = druhy.text\r\n",
    "treti = druhy.findNext('span')\r\n",
    "treti_text = treti.text\r\n",
    "treti"
   ]
  },
  {
   "cell_type": "code",
   "execution_count": null,
   "metadata": {},
   "outputs": [],
   "source": [
    "info = []\r\n",
    "\r\n",
    "def info_attacher(list):\r\n",
    "    for object in list:\r\n",
    "        while True:\r\n",
    "            if object.text == (object+1).text:\r\n",
    "                pass\r\n",
    "            elif not i.text:\r\n",
    "                pass\r\n",
    "            else:\r\n",
    "                info.append(i.text)\r\n",
    "\r\n",
    "info_attacher(filter_list)\r\n",
    "            "
   ]
  },
  {
   "cell_type": "code",
   "execution_count": null,
   "metadata": {},
   "outputs": [],
   "source": [
    "ico = \"27201121\"\r\n",
    "url = f\"https://or.justice.cz/ias/ui/rejstrik-$firma?ico={ico}&jenPlatne=PLATNE&polozek=1&typHledani=STARTS_WITH\"\r\n",
    "   \r\n",
    "html = requests.get(url).content\r\n",
    "sel = Selector(text=html)\r\n",
    "vypis = sel.xpath(\"//li/a[contains(text(),'Výpis platných')]/@href\").extract()\r\n",
    "\r\n",
    "print(vypis)\r\n"
   ]
  }
 ],
 "metadata": {
  "kernelspec": {
   "display_name": "Python 3.9.1 64-bit",
   "name": "python391jvsc74a57bd0ef3b7270d7f1affd2a393a9c4d04c9df9f7d453de97dd548c3d70953d082d5ca"
  },
  "language_info": {
   "codemirror_mode": {
    "name": "ipython",
    "version": 3
   },
   "file_extension": ".py",
   "mimetype": "text/x-python",
   "name": "python",
   "nbconvert_exporter": "python",
   "pygments_lexer": "ipython3",
   "version": "3.9.1"
  },
  "orig_nbformat": 2
 },
 "nbformat": 4,
 "nbformat_minor": 2
}